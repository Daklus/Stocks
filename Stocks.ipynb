{
 "cells": [
  {
   "cell_type": "code",
   "execution_count": null,
   "metadata": {},
   "outputs": [],
   "source": [
    "import datetime as dt\n",
    "import matplotlib.pyplot as plt\n",
    "from matplotlib import style\n",
    "import pandas as pd\n",
    "import pandas_datareader.data as web\n",
    "import smtplib\n",
    "from email.mime.multipart import MIMEMultipart\n",
    "from email.mime.text import MIMEText\n",
    "from email.mime.image import MIMEImage\n",
    "import os\n",
    "import sched, time"
   ]
  },
  {
   "cell_type": "code",
   "execution_count": null,
   "metadata": {},
   "outputs": [],
   "source": [
    "# Creating a scheduler to send an email everyday\n",
    "scheduler = sched.scheduler(time.time, time.sleep)\n",
    "\n",
    "# Create a function to get the stock data from yahoo and send email with the plot\n",
    "def send_email(sc): \n",
    "    \n",
    "    # Get the stocks data from yahoo\n",
    "    end = dt.datetime.now()\n",
    "    start = end - dt.timedelta(days=180)\n",
    "    df = web.DataReader('TECK', 'yahoo', start, end)\n",
    "    \n",
    "    # Create a plot from the stocks data\n",
    "    style.use('bmh')\n",
    "    f, ax = plt.subplots(1, 1, figsize=(10, 7))\n",
    "    df[['High', 'Low']].plot(ax=ax)\n",
    "    plt.xticks(rotation=90) \n",
    "    plt.ylabel('US Dollars')\n",
    "    plt.title('Teck Resources Limited')\n",
    "    f.savefig(\"TECK\")\n",
    "\n",
    "    # Send email with the image attachment\n",
    "    msg = MIMEMultipart()\n",
    "    body = \"Thank you for using my Python code\"\n",
    "    msg.attach(MIMEText(body,'plain'))\n",
    "    img_data = open('TECK.png', 'rb').read()\n",
    "    image = MIMEImage(img_data, name=os.path.basename('TECK.png'))\n",
    "    msg.attach(image)\n",
    "\n",
    "    ## Created environmental variables to hide my username and password\n",
    "    username = os.environ.get('GMAIL_USERNAME')\n",
    "    password = os.environ.get('GMAIL_PASSWORD')\n",
    "\n",
    "    msg['From'] = os.environ.get('GMAIL_ADDRESS') \n",
    "    msg['To'] = 'test@gmail.com'  \n",
    "    msg['subject'] = 'Teck Resources Limited - Stock Prices'\n",
    "\n",
    "    server = smtplib.SMTP('smtp.gmail.com', 587)  \n",
    "    server.ehlo()\n",
    "    server.starttls()\n",
    "    server.login(username, password)  \n",
    "    server.sendmail(msg['From'], msg['To'], msg.as_string())  \n",
    "    server.quit()\n",
    "\n",
    "    print (\"Email Sent\")\n",
    "    scheduler.enter(10, 1, send_email, (sc,))\n",
    "    \n",
    "# Send the email everyday\n",
    "scheduler.enter(10, 1, send_email, (scheduler,))\n",
    "scheduler.run()"
   ]
  },
  {
   "cell_type": "code",
   "execution_count": null,
   "metadata": {},
   "outputs": [],
   "source": []
  }
 ],
 "metadata": {
  "kernelspec": {
   "display_name": "Python 3",
   "language": "python",
   "name": "python3"
  },
  "language_info": {
   "codemirror_mode": {
    "name": "ipython",
    "version": 3
   },
   "file_extension": ".py",
   "mimetype": "text/x-python",
   "name": "python",
   "nbconvert_exporter": "python",
   "pygments_lexer": "ipython3",
   "version": "3.7.4"
  }
 },
 "nbformat": 4,
 "nbformat_minor": 2
}
